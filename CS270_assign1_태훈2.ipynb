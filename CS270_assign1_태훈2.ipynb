{
  "nbformat": 4,
  "nbformat_minor": 0,
  "metadata": {
    "colab": {
      "provenance": []
    },
    "kernelspec": {
      "name": "python3",
      "display_name": "Python 3"
    },
    "language_info": {
      "name": "python"
    }
  },
  "cells": [
    {
      "cell_type": "markdown",
      "source": [
        "# **1. Declaration + Initialization**\n",
        "\n",
        "---\n",
        "\n"
      ],
      "metadata": {
        "id": "9U2SiJinANS8"
      }
    },
    {
      "cell_type": "code",
      "execution_count": 168,
      "metadata": {
        "id": "B9HdYNkPAVaA"
      },
      "outputs": [],
      "source": [
        "#red, box coordinate (set)\n",
        "red_cell = set([])\n",
        "box_cell = set([])\n",
        "\n",
        "#direction (dict)\n",
        "direction = {(-1,0):'up', (0,1):'right', (1,0):'down', (0,-1):'left'}\n",
        "\n",
        "#grid (2D array)\n",
        "grid = [[0 for j in range(6)] for i in range(4)]\n",
        "\n",
        "#Path (array)\n",
        "path = []\n",
        "path_show = []\n",
        "\n",
        "#Cell Class\n",
        "class Cell:\n",
        "  def __init__(self,coordinate):\n",
        "    self.coordinate = coordinate\n",
        "    self.red = False\n",
        "    self.visited = False\n",
        "    self.box = False\n",
        "\n",
        "  def is_red(self):\n",
        "    return self.red\n",
        "\n",
        "  def is_box(self):\n",
        "    return self.box\n",
        "\n",
        "\n",
        "#Robot Class\n",
        "class Robot:\n",
        "  def __init__(self,position, direc):\n",
        "    self.position = position\n",
        "    self.direc = direc\n",
        "\n",
        "  def set_direc(self, direc):\n",
        "    self.direc = direc\n",
        "\n",
        "  def move(self):\n",
        "    global path_show\n",
        "    path_show.append(robot.position.coordinate)\n",
        "    self.position = grid[self.position.coordinate[0]+self.direc[0]][self.position.coordinate[1]+self.direc[1]]\n",
        "\n",
        "#Initialize Grid\n",
        "for i in range(4):\n",
        "  for j in range(6):\n",
        "    grid[i][j] = Cell((i,j))\n",
        "\n",
        "#Initialize Robot\n",
        "robot = Robot((grid[3][0]), (-1,0))"
      ]
    },
    {
      "cell_type": "markdown",
      "source": [
        "# **2. Functions**\n",
        "\n",
        "---\n",
        "\n"
      ],
      "metadata": {
        "id": "1jXz2i0YAmOC"
      }
    },
    {
      "cell_type": "code",
      "source": [
        "#1. is_end\n",
        "#Check whether search is_end\n",
        "def is_end(grid): return (len(red_cell)==2 and len(box_cell)==2)\n",
        "\n",
        "#2. in_grid\n",
        "#Check wheter given cell's coordinate is in grid\n",
        "def in_grid(coordinate): return ((coordinate[0]>=0 and coordinate[0]<=3) and (coordinate[1]>=0 and coordinate[1]<=5))\n",
        "\n",
        "#3. update_cell\n",
        "#Update cell's visited status, box_count, red_count\n",
        "def update_cell(cell):\n",
        "  cell.visited=True\n",
        "  if cell.is_red():\n",
        "    global red_cell\n",
        "    red_cell.add(cell.coordinate)\n",
        "\n",
        "#4. valid_position\n",
        "#Check whether robot's next position is valid or not\n",
        "def valid_position(direc):\n",
        "  next_position = (robot.position.coordinate[0]+direc[0], robot.position.coordinate[1]+direc[1])\n",
        "  if in_grid(next_position):\n",
        "    next_cell = grid[next_position[0]][next_position[1]]\n",
        "    if (not next_cell.is_box()) and (not next_cell.visited):\n",
        "      return True\n",
        "    else:\n",
        "      if (next_cell.is_box()):\n",
        "        box_cell.add(next_cell.coordinate)\n",
        "  return False\n",
        "\n",
        "#5. make_move\n",
        "#Append the position to 'path' array and move robot to next_position\n",
        "def make_move(direction):\n",
        "  global path\n",
        "  robot.set_direc(direction)\n",
        "  path.append(robot.position)\n",
        "  robot.move()"
      ],
      "metadata": {
        "id": "-TksxB6-ArhG"
      },
      "execution_count": 169,
      "outputs": []
    },
    {
      "cell_type": "markdown",
      "source": [
        "# **3. DFS Algorithm**\n",
        "\n",
        "---\n",
        "\n"
      ],
      "metadata": {
        "id": "TSXe8s7qAzd6"
      }
    },
    {
      "cell_type": "code",
      "source": [
        "def DFS():\n",
        "  global path, direction, red_cell, box_cell\n",
        "  if is_end(grid):\n",
        "    print(\"The search is end\")\n",
        "    print(\"The coordinate of red cell : \",red_cell, \" box cell : \", box_cell)\n",
        "    return\n",
        "\n",
        "  else:\n",
        "    update_cell(robot.position)\n",
        "    print(robot.position.coordinate, end=' -> ')\n",
        "\n",
        "    if valid_position((-1,0)): #up\n",
        "      make_move((-1,0))\n",
        "      DFS()\n",
        "    elif valid_position((0,1)): #right\n",
        "      make_move((0,1))\n",
        "      DFS()\n",
        "    elif valid_position((1,0)): #down\n",
        "      make_move((1,0))\n",
        "      DFS()\n",
        "    elif valid_position((0,-1)): #left\n",
        "      make_move((0,-1))\n",
        "      DFS()\n",
        "    else:\n",
        "      print(\"Stucked\")\n",
        "      new_direc = (path[-1].coordinate[0]-robot.position.coordinate[0], path[-1].coordinate[1]-robot.position.coordinate[1])\n",
        "      robot.set_direc(new_direc)\n",
        "      path.pop()\n",
        "      robot.move()\n",
        "      DFS()\n"
      ],
      "metadata": {
        "id": "QoNN7ZGdXN4g"
      },
      "execution_count": 170,
      "outputs": []
    },
    {
      "cell_type": "markdown",
      "source": [
        "# **4. Test (Enter the coordinate of box, red cell)**\n",
        "\n",
        "---\n",
        "\n"
      ],
      "metadata": {
        "id": "oGOH_5xfA6UO"
      }
    },
    {
      "cell_type": "code",
      "source": [
        "#Enter the coordinate of box cell\n",
        "grid[1][0].box=True\n",
        "grid[2][1].box=True\n",
        "#Enter the coordinate of red cell\n",
        "grid[3][0].red=True\n",
        "grid[1][4].red=True\n",
        "DFS()"
      ],
      "metadata": {
        "id": "p_6ubAzweuXS",
        "colab": {
          "base_uri": "https://localhost:8080/"
        },
        "outputId": "faa0e89d-86b2-4038-9736-32ff0d660563"
      },
      "execution_count": 171,
      "outputs": [
        {
          "output_type": "stream",
          "name": "stdout",
          "text": [
            "(3, 0) -> (2, 0) -> Stucked\n",
            "(3, 0) -> (3, 1) -> (3, 2) -> (2, 2) -> (1, 2) -> (0, 2) -> (0, 3) -> (0, 4) -> (0, 5) -> (1, 5) -> (2, 5) -> (3, 5) -> (3, 4) -> (2, 4) -> (1, 4) -> The search is end\n",
            "The coordinate of red cell :  {(1, 4), (3, 0)}  box cell :  {(1, 0), (2, 1)}\n"
          ]
        }
      ]
    },
    {
      "cell_type": "markdown",
      "source": [
        "# **5. Visualization**\n",
        "\n",
        "---\n",
        "\n"
      ],
      "metadata": {
        "id": "Axxil3YyONpW"
      }
    },
    {
      "cell_type": "code",
      "source": [
        "from matplotlib import pyplot as plt\n",
        "\n",
        "def plot_robot_path(path_show):\n",
        "    # 이동 경로의 좌표 추출\n",
        "    x_coords = [pos[1] for pos in path_show]\n",
        "    y_coords = [pos[0] for pos in path_show]\n",
        "\n",
        "    # 이동 경로 표시\n",
        "    plt.figure(figsize=(6, 4))\n",
        "    plt.plot(x_coords, y_coords, marker='o', linestyle='-', color='b', label='Path')\n",
        "\n",
        "    # 시작, 끝 점 표시\n",
        "    plt.scatter(x_coords[0], y_coords[0], color='y', s=300, label='Start')\n",
        "    plt.scatter(x_coords[-1], y_coords[-1], color='y', s=300, label='End')\n",
        "\n",
        "    # box_cell, red_cell 표시\n",
        "    for i in range(4):\n",
        "      for j in range(6):\n",
        "        if grid[i][j].box:\n",
        "          plt.scatter(j, i, color='g', s=300, label='Box')\n",
        "        elif grid[i][j].red:\n",
        "          plt.scatter(j, i, color='r', s=150, label='Red')\n",
        "\n",
        "    # 그래프 설정\n",
        "    move_num = len(path_show)\n",
        "    plt.gca().invert_yaxis()  # 좌표계를 맞추기 위해 Y축 반전\n",
        "    plt.xticks(range(6))\n",
        "    plt.yticks(range(4))\n",
        "    plt.grid(True)\n",
        "    plt.title(f\"Robot Movement Path (Move # : {len(path_show)})\")\n",
        "    plt.xlabel(\"X Coordinate\")\n",
        "    plt.ylabel(\"Y Coordinate\")\n",
        "    plt.show()\n",
        "\n",
        "plot_robot_path(path_show)"
      ],
      "metadata": {
        "colab": {
          "base_uri": "https://localhost:8080/",
          "height": 410
        },
        "id": "cPQi8HZ_FduA",
        "outputId": "1b9862c1-5a93-4652-fd4e-da294c4a5cb2"
      },
      "execution_count": 172,
      "outputs": [
        {
          "output_type": "display_data",
          "data": {
            "text/plain": [
              "<Figure size 600x400 with 1 Axes>"
            ],
            "image/png": "[encoded data removed]"
          },
          "metadata": {}
        }
      ]
    }
  ]
}